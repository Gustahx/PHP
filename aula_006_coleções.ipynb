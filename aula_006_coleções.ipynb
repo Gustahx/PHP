{
  "nbformat": 4,
  "nbformat_minor": 0,
  "metadata": {
    "colab": {
      "provenance": [],
      "authorship_tag": "ABX9TyMHCykiv19RqqI9N8J+25Ow",
      "include_colab_link": true
    },
    "kernelspec": {
      "name": "python3",
      "display_name": "Python 3"
    },
    "language_info": {
      "name": "python"
    }
  },
  "cells": [
    {
      "cell_type": "markdown",
      "metadata": {
        "id": "view-in-github",
        "colab_type": "text"
      },
      "source": [
        "<a href=\"https://colab.research.google.com/github/Gustahx/PHP/blob/main/aula_006_cole%C3%A7%C3%B5es.ipynb\" target=\"_parent\"><img src=\"https://colab.research.google.com/assets/colab-badge.svg\" alt=\"Open In Colab\"/></a>"
      ]
    },
    {
      "cell_type": "code",
      "execution_count": null,
      "metadata": {
        "id": "1LxOUZCnch2B"
      },
      "outputs": [],
      "source": [
        "# Crie uma lista de nomes de frutas e ordene-a em ordem decrescente.\n",
        "frutas = ['Maça', 'Banana', 'Uva', 'Pitaya', 'Laranja']\n",
        "frutas.sort(reverse=True)\n",
        "\n",
        "frutas"
      ]
    },
    {
      "cell_type": "code",
      "source": [
        "#Dada uma lista de números, retorne uma lista contendo o quadrado de cada número.\n",
        "num = [4, 6, 5, 2]\n",
        "newList = list(map(lambda x: x*x, num))\n",
        "newList"
      ],
      "metadata": {
        "id": "AS1-KAL_ldmf"
      },
      "execution_count": null,
      "outputs": []
    },
    {
      "cell_type": "code",
      "source": [
        "#Recebe uma lista de frutas, retorne uma lista de caracteres.\n",
        "fruits = ['Jaca', 'Banana', 'Maça', 'Pitaya', 'Limão']\n",
        "newList = list(map(lambda x: len(x), fruits))\n",
        "newList"
      ],
      "metadata": {
        "id": "6LNG8siRrAz5"
      },
      "execution_count": null,
      "outputs": []
    },
    {
      "cell_type": "code",
      "source": [
        "#Pegar os preços de um lista e adicionar 2 a cada um deles.\n",
        "prize = [9, 3, 5, 4, 7]\n",
        "more = list(map(lambda x: x+2, prize))\n",
        "more"
      ],
      "metadata": {
        "id": "TzdvU-4Is6CA"
      },
      "execution_count": null,
      "outputs": []
    },
    {
      "cell_type": "code",
      "source": [
        "#Apenas os Aprovados.\n",
        "notas = [6, 7, 8, 2, 4]\n",
        "aprovados = list(filter(lambda x: x>=7, notas))\n",
        "aprovados"
      ],
      "metadata": {
        "id": "YHPTZDTKvuAG"
      },
      "execution_count": null,
      "outputs": []
    },
    {
      "cell_type": "code",
      "source": [
        "#Escreva uma função que recebe uma lista de números e \n",
        "#retorna uma nova lista contendo apenas os números divisíveis por 3.\n",
        "lista = [6, 8, 9, 7]\n",
        "div = list(filter(lambda x: x%3==0, lista))\n",
        "div"
      ],
      "metadata": {
        "id": "IDNO1YLMwLRB"
      },
      "execution_count": null,
      "outputs": []
    },
    {
      "cell_type": "code",
      "source": [
        "#Escreva uma função que recebe uma lista de strings e\n",
        "#retorna uma nova lista contendo as strings em ordem reversa.\n",
        "futebol = ['Estádio', 'Arquibancada', 'Campo', 'Trave']\n",
        "futebol.sort(reverse=True)\n",
        "futebol"
      ],
      "metadata": {
        "id": "ChGm8IKRwpZt"
      },
      "execution_count": null,
      "outputs": []
    },
    {
      "cell_type": "markdown",
      "source": [
        "TUPLAS\n",
        "\n",
        "Uma tupla é uma coleção ordenada e imutável de elementos em Python."
      ],
      "metadata": {
        "id": "tEk2PCR8VH5J"
      }
    },
    {
      "cell_type": "code",
      "source": [
        "tp_frutas = ('maçã', 'banana', 'laranja', 'goiaba')\n",
        "tp_frutas"
      ],
      "metadata": {
        "id": "E_owSMinUckK"
      },
      "execution_count": null,
      "outputs": []
    },
    {
      "cell_type": "code",
      "source": [
        "lst_frutas = list(tp_frutas)\n",
        "type(lst_frutas)\n",
        "lst_frutas"
      ],
      "metadata": {
        "id": "juuL9aGrVNQi"
      },
      "execution_count": null,
      "outputs": []
    },
    {
      "cell_type": "code",
      "source": [
        "#Usando o processo de fatiamento, crie uma nova tupla apenas \n",
        "#com os meses do segundo trimestre (abril - Jun)\n",
        "tp_meses = ('Janeiro', 'Fevereiro', 'Março', 'Abril', 'Maio', 'Junho', 'Julho', 'Agosto', 'Setembro', 'Outubro', 'Novembro', 'Dezembro')\n",
        "tp_meses[3:6]"
      ],
      "metadata": {
        "id": "U_wqF8H5ZX4Z"
      },
      "execution_count": null,
      "outputs": []
    },
    {
      "cell_type": "code",
      "source": [
        "#Ordenação de dados *sort(value, key = x)\n",
        "#Ordenar os estados pelo DDD e não pelo nome\n",
        "uf_cod = [('PE', 81), ('RJ', 21), ('SP', 11), ('PB', 83)]\n",
        "sorted(uf_cod, key = lambda x : x[1])\n",
        "     "
      ],
      "metadata": {
        "id": "MgOKkJEqcAZS"
      },
      "execution_count": null,
      "outputs": []
    },
    {
      "cell_type": "code",
      "source": [
        "#Coloque a tupla a seguir em ordem \n",
        "#do mais novo para o mais velho\n",
        "#e do mais velho pro mais novo\n",
        "nome_nasc = [('Zé', 2003),('Maria', 1998),('Alice', 2000)]\n",
        "\n",
        "sorted(nome_nasc, key = lambda x : x[1], reverse=True) #do mais novo para o mais velho\n"
      ],
      "metadata": {
        "id": "TUoar-qPc1kw"
      },
      "execution_count": null,
      "outputs": []
    },
    {
      "cell_type": "code",
      "source": [
        "#Desempacotamento de Valores.\n",
        "def nome_idade_uf():\n",
        "  nome = 'Gustavo'\n",
        "  idade = 18\n",
        "  uf = 'PB'\n",
        "  return nome, idade, uf\n",
        "\n",
        "name, age, uf = nome_idade_uf()\n",
        "\n",
        "print(name, age, uf)"
      ],
      "metadata": {
        "id": "A_l7GlDDfHuV"
      },
      "execution_count": null,
      "outputs": []
    },
    {
      "cell_type": "code",
      "source": [
        "#1- Escreva uma função que receba duas tuplas como entrada e \n",
        "#retorne uma única tupla que seja a concatenação das duas.\n",
        "def concatenaTupla (tp1, tp2):\n",
        "  return tp1 + tp2\n",
        "\n",
        "a = (2, 4, 5) \n",
        "b = (6, 8, 12)\n",
        "concatenaTupla(a, b)"
      ],
      "metadata": {
        "id": "u8T-pdWRmb46"
      },
      "execution_count": null,
      "outputs": []
    },
    {
      "cell_type": "code",
      "source": [
        "#2- Escreva uma função que receba uma tupla contendo o nome e endereço: contendo, \n",
        "#logradouro, número e bairro de uma pessoa e retorne uma string formatada.\n",
        "\n",
        "def formatada(tupla):\n",
        "  nome, logradouro, num, bairro = tupla\n",
        "  return f'Nome : {nome}, residente a : {logradouro}, {num}, {bairro}.'\n",
        "  \n",
        "dadosClient = ('Brian', 'Rua China', 1307, 'Bairro das Industrias')\n",
        "\n",
        "print(formatada(dadosClient))"
      ],
      "metadata": {
        "id": "zc83Bbpmogrh"
      },
      "execution_count": null,
      "outputs": []
    },
    {
      "cell_type": "code",
      "source": [
        "#3- Escreva uma função que receba uma lista de tuplas contendo nome e \n",
        "#idade de pessoas e retorne a lista ordenada por idade.\n",
        "\n",
        "nom_ida = (('Gustavo', 18), ('José', 54), ('Kenia', 49), ('Vitor', 26))\n",
        "\n",
        "sorted(nom_ida, key = lambda x:x[1]) "
      ],
      "metadata": {
        "id": "Os6xMRZNo9MR"
      },
      "execution_count": null,
      "outputs": []
    }
  ]
}